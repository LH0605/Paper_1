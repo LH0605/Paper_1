{
 "cells": [
  {
   "cell_type": "code",
   "execution_count": 5,
   "metadata": {},
   "outputs": [],
   "source": [
    "import torch\n",
    "import torch.nn as nn\n",
    "import torch.utils.data as Data\n",
    "import torch.nn.functional as F\n",
    "import numpy as np\n",
    "import matplotlib.pyplot as plt"
   ]
  },
  {
   "cell_type": "code",
   "execution_count": 67,
   "metadata": {},
   "outputs": [],
   "source": [
    "mu = 1\n",
    "sigma = 2.0\n",
    "learning_rate = 1e-3\n",
    "epsilon = 1.2\n",
    "epochs = 1000\n",
    "test_size = 10"
   ]
  },
  {
   "cell_type": "code",
   "execution_count": 68,
   "metadata": {},
   "outputs": [],
   "source": [
    "# model parameters\n",
    "# print(list(model.parameters()))\n",
    "\n",
    "# Loss\n",
    "loss_fun = nn.CrossEntropyLoss()\n",
    "\n",
    "#model\n",
    "model = torch.nn.Sequential(\n",
    "    nn.Linear(1, 10),\n",
    "    nn.ReLU(),\n",
    "    nn.Linear(10,2)\n",
    ")\n",
    "\n",
    "\n",
    "# FGSM attack\n",
    "def fgsm(model, X, y, epsilon):\n",
    "    \"\"\" Construct FGSM adversarial examples on the examples X\"\"\"\n",
    "    delta = torch.zeros_like(X, requires_grad=True)\n",
    "#     print('fgsm X, delta, y, sum:', X.size(), delta.size(), y.size(), X.float() + delta)\n",
    "    y_pred = model(X + delta)\n",
    "    loss = nn.CrossEntropyLoss()(y_pred,y)\n",
    "#     print('fgsm loss:', loss)\n",
    "    loss.backward()\n",
    "    return epsilon * delta.grad.detach().sign()\n",
    "\n",
    "w = torch.tensor(1., requires_grad=True)\n",
    "\n",
    "def epoch_adversarial(loader, model):\n",
    "#     total_loss = 0.\n",
    "    for X, y in loader:\n",
    "        delta = fgsm(model, X.float(), y.long(), epsilon)\n",
    "        # perturbed training data\n",
    "        x_pert = X.float() + delta\n",
    "        # predicted output\n",
    "        y_pred = model(x_pert)\n",
    "        \n",
    "        # clear gradients wrt to parameters\n",
    "        opt.zero_grad()\n",
    "        # calculate linear loss\n",
    "        loss = loss_fun(y_pred, y.long())\n",
    "        # get gradients wrt to parameters\n",
    "        loss.backward()\n",
    "\n",
    "        opt.step()\n",
    "\n",
    "def test_loss(loader, model):\n",
    "    total_loss = 0.\n",
    "    for X, y in loader:\n",
    "        y_pred = model(X.float())\n",
    "        test_loss = loss_fun(y_pred, y.long())\n",
    "        total_loss += test_loss.item() * X.shape[0]\n",
    "    return total_loss / len(loader.dataset)"
   ]
  },
  {
   "cell_type": "code",
   "execution_count": 69,
   "metadata": {
    "scrolled": false
   },
   "outputs": [
    {
     "data": {
      "text/plain": [
       "[<matplotlib.lines.Line2D at 0x2028d85c940>]"
      ]
     },
     "execution_count": 69,
     "metadata": {},
     "output_type": "execute_result"
    },
    {
     "data": {
      "image/png": "[encoded data removed]",
      "text/plain": [
       "<Figure size 432x288 with 1 Axes>"
      ]
     },
     "metadata": {
      "needs_background": "light"
     },
     "output_type": "display_data"
    }
   ],
   "source": [
    "# define linear model\n",
    "\n",
    "# train the model\n",
    "\n",
    "\n",
    "test_losses = np.zeros(20)\n",
    "\n",
    "for train_size in range(1, 21):\n",
    "#     train_size = 2\n",
    "    batch_size = train_size\n",
    "    # w = torch.tensor(1., requires_grad=True)\n",
    "    model = torch.nn.Sequential(\n",
    "    nn.Linear(1, 10),\n",
    "    nn.ReLU(),\n",
    "    nn.Linear(10,2)\n",
    "    )\n",
    "    \n",
    "    # define optimizer\n",
    "    opt = torch.optim.Adam(model.parameters(), lr=learning_rate)\n",
    "\n",
    "    x_train = torch.unsqueeze(torch.linspace(-10, 10, 2*train_size), dim=1)\n",
    "    y_train = torch.cat([torch.zeros(train_size), torch.ones(train_size)])\n",
    "    x_test = torch.unsqueeze(torch.linspace(-10, 10, 2*test_size), dim=1)\n",
    "    y_test = torch.cat([torch.zeros(test_size), torch.ones(test_size)])\n",
    "\n",
    "    # y_test = torch.unsqueeze(torch.cat([-torch.ones(test_size), torch.ones(test_size)]), dim=1)\n",
    "    # x_test = torch.unsqueeze(torch.normal(mu*y_test, sigma), dim=1)\n",
    "\n",
    "    # define datasets and data loaders\n",
    "    train_set = Data.TensorDataset(x_train, y_train)\n",
    "    train_loader = Data.DataLoader(dataset=train_set, batch_size=batch_size, shuffle=True)\n",
    "    test_set = Data.TensorDataset(x_test, y_test)\n",
    "    test_loader = Data.DataLoader(dataset=test_set, batch_size=batch_size, shuffle=True)\n",
    "\n",
    "    for epoch in range(epochs):\n",
    "        epoch_adversarial(train_loader, model)\n",
    "\n",
    "    test_losses[train_size-1] = test_loss(test_loader, model)\n",
    "\n",
    "# logging\n",
    "# print('test_losses', test_losses)\n",
    "plt.plot(np.arange(1, 21), test_losses)"
   ]
  },
  {
   "cell_type": "code",
   "execution_count": null,
   "metadata": {},
   "outputs": [],
   "source": []
  },
  {
   "cell_type": "code",
   "execution_count": null,
   "metadata": {},
   "outputs": [],
   "source": []
  }
 ],
 "metadata": {
  "kernelspec": {
   "display_name": "Python 3",
   "language": "python",
   "name": "python3"
  },
  "language_info": {
   "codemirror_mode": {
    "name": "ipython",
    "version": 3
   },
   "file_extension": ".py",
   "mimetype": "text/x-python",
   "name": "python",
   "nbconvert_exporter": "python",
   "pygments_lexer": "ipython3",
   "version": "3.8.3"
  }
 },
 "nbformat": 4,
 "nbformat_minor": 2
}
