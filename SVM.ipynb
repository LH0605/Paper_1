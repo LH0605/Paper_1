{
 "cells": [
  {
   "cell_type": "code",
   "execution_count": 1,
   "metadata": {},
   "outputs": [],
   "source": [
    "import matplotlib.pyplot as plt\n",
    "import numpy as np\n",
    "import torch\n",
    "import torch.nn as nn\n",
    "import torch.utils.data as Data\n",
    "from torch.optim import SGD, Adam"
   ]
  },
  {
   "cell_type": "code",
   "execution_count": 43,
   "metadata": {},
   "outputs": [],
   "source": [
    "mu = torch.ones(2)\n",
    "sigma = torch.eye(2)\n",
    "learning_rate = 1e-1\n",
    "epsilon = 3.\n",
    "num_epochs = 30\n",
    "c = 0.1\n",
    "TEST_SIZE = 300\n",
    "TRAIN_SIZE = 30\n",
    "BEST_MODEL_PATH = 'best_svm_model.pt'"
   ]
  },
  {
   "cell_type": "code",
   "execution_count": 44,
   "metadata": {},
   "outputs": [],
   "source": [
    "x_test = torch.cat([torch.distributions.MultivariateNormal(-mu, sigma).sample((TEST_SIZE,)), torch.distributions.MultivariateNormal(mu, sigma).sample((TEST_SIZE,))]).float()\n",
    "y_test = torch.unsqueeze(torch.cat([-torch.ones(TEST_SIZE), torch.ones(TEST_SIZE)]), dim=1).float()\n",
    "test_set = Data.TensorDataset(x_test, y_test)\n",
    "test_loader = Data.DataLoader(dataset=test_set, batch_size=TEST_SIZE//10, shuffle=False)"
   ]
  },
  {
   "cell_type": "code",
   "execution_count": 45,
   "metadata": {},
   "outputs": [],
   "source": [
    "def train_hinge_loss(x, y, weight, bias):\n",
    "    loss = torch.mean(torch.clamp(1 - y * (x @ weight - bias), min=0))\n",
    "    loss += c * ((weight.t() @ weight) / 2.0).item()\n",
    "    return loss"
   ]
  },
  {
   "cell_type": "code",
   "execution_count": 46,
   "metadata": {},
   "outputs": [],
   "source": [
    "def test_hinge_loss(x, y, weight, bias):\n",
    "    return torch.mean(torch.clamp(1 - y * (x @ weight - bias), min=0))"
   ]
  },
  {
   "cell_type": "code",
   "execution_count": 47,
   "metadata": {},
   "outputs": [],
   "source": [
    "def fgsm(model, x, y, epsilon):\n",
    "    \"\"\" Construct FGSM adversarial examples on the examples X\"\"\"\n",
    "    x.requires_grad = True\n",
    "    output = model(x)\n",
    "\n",
    "    loss = train_hinge_loss(x, y, model.weight.t(), model.bias)\n",
    "    model.zero_grad()\n",
    "    loss.backward()\n",
    "    return epsilon * x.grad.data.sign()"
   ]
  },
  {
   "cell_type": "code",
   "execution_count": 48,
   "metadata": {},
   "outputs": [],
   "source": [
    "def fit(num_epochs, train_loader, model, loss_fn, opt):\n",
    "    model.train()\n",
    "    best_loss = float('inf')\n",
    "    for epoch in range(num_epochs):\n",
    "        sum_loss = 0\n",
    "        for x, y in train_loader:\n",
    "            opt.zero_grad()\n",
    "            delta = fgsm(model, x, y, epsilon)\n",
    "            # perturbed training data\n",
    "            x_pert = x + delta\n",
    "            # predicted output\n",
    "            y_pred = model(x_pert)\n",
    "#             print(x[0])\n",
    "#             print('---')\n",
    "#             print(x_pert[0])\n",
    "        \n",
    "#             y_pred = model(x)\n",
    "            weight = model.weight.t() # .squeeze()\n",
    "            bias = model.bias\n",
    "            loss = train_hinge_loss(x_pert, y, weight, bias)\n",
    "            loss.backward()\n",
    "            opt.step()\n",
    "            sum_loss += float(loss)\n",
    "        epoch_train_loss = sum_loss / train_size\n",
    "        if epoch_train_loss < best_loss:\n",
    "            best_loss = epoch_train_loss\n",
    "            torch.save(model.state_dict(), BEST_MODEL_PATH)\n",
    "#         print(\"Epoch:\", epoch)\n",
    "#         print(\"Training loss:\", sum_loss / train_size)\n",
    "    # calc test loss\n",
    "\n",
    "    sum_test_loss = 0\n",
    "    model = nn.Linear(2, 1)\n",
    "    model.load_state_dict(torch.load(BEST_MODEL_PATH))\n",
    "    model.eval()\n",
    "    for x, y in test_loader:\n",
    "        weight = model.weight.t()\n",
    "        bias = model.bias\n",
    "        loss = test_hinge_loss(x, y, weight, bias)\n",
    "        sum_test_loss += loss\n",
    "    #     print('Training loss: ', loss_fn(model(x_train), y_train))\n",
    "#     print('Test loss: ', test_loss / test_size)\n",
    "    return sum_test_loss / TEST_SIZE"
   ]
  },
  {
   "cell_type": "code",
   "execution_count": 49,
   "metadata": {
    "scrolled": true
   },
   "outputs": [],
   "source": [
    "# EPSILONS = np.array([0.3, ])\n",
    "test_losses = np.zeros(TRAIN_SIZE)\n",
    "\n",
    "for train_size in range(1, TRAIN_SIZE+1):\n",
    "    N = 30\n",
    "    temp = np.zeros(N)\n",
    "    for i in range(N):\n",
    "        model = nn.Linear(2, 1)\n",
    "        opt = Adam(model.parameters(), lr=learning_rate)\n",
    "        batch_size = min(5, train_size)\n",
    "        x_train = torch.cat([torch.distributions.MultivariateNormal(-mu, sigma).sample((train_size,)), torch.distributions.MultivariateNormal(mu, sigma).sample((train_size,))]).float()\n",
    "        y_train = torch.unsqueeze(torch.cat([-torch.ones(train_size), torch.ones(train_size)]), dim=1).float()\n",
    "        train_set = Data.TensorDataset(x_train, y_train)\n",
    "        train_loader = Data.DataLoader(dataset=train_set, batch_size=batch_size, shuffle=True)\n",
    "        test_loss = fit(num_epochs, train_loader, model, test_hinge_loss, opt)\n",
    "        temp[i] = test_loss.item()\n",
    "    # test_losses[train_size-1] = test_loss.item()\n",
    "\n",
    "\n",
    "#     median = np.median(temp)\n",
    "    mean = np.mean(temp)\n",
    "#     test_losses[train_size-1] = median.item()\n",
    "    test_losses[train_size-1] = mean.item()\n"
   ]
  },
  {
   "cell_type": "code",
   "execution_count": 50,
   "metadata": {},
   "outputs": [
    {
     "data": {
      "text/plain": [
       "[<matplotlib.lines.Line2D at 0x7fd5809d7970>]"
      ]
     },
     "execution_count": 50,
     "metadata": {},
     "output_type": "execute_result"
    },
    {
     "data": {
      "image/png": "[encoded data removed]",
      "text/plain": [
       "<Figure size 432x288 with 1 Axes>"
      ]
     },
     "metadata": {
      "needs_background": "light"
     },
     "output_type": "display_data"
    }
   ],
   "source": [
    "train_sizes = np.arange(1, TRAIN_SIZE+1)\n",
    "plt.plot(train_sizes, test_losses)"
   ]
  },
  {
   "cell_type": "code",
   "execution_count": 51,
   "metadata": {},
   "outputs": [
    {
     "data": {
      "text/plain": [
       "[<matplotlib.lines.Line2D at 0x7fd580931280>]"
      ]
     },
     "execution_count": 51,
     "metadata": {},
     "output_type": "execute_result"
    },
    {
     "data": {
      "image/png": "[encoded data removed]",
      "text/plain": [
       "<Figure size 432x288 with 1 Axes>"
      ]
     },
     "metadata": {
      "needs_background": "light"
     },
     "output_type": "display_data"
    }
   ],
   "source": [
    "train_sizes = np.arange(1, TRAIN_SIZE+1)\n",
    "\n",
    "poly_reg = np.poly1d(np.polyfit(train_sizes, test_losses, 10))\n",
    "x = np.linspace(train_sizes.min(), train_sizes.max(), 100)\n",
    "\n",
    "plt.plot(x, poly_reg(x))"
   ]
  },
  {
   "cell_type": "code",
   "execution_count": 52,
   "metadata": {},
   "outputs": [
    {
     "data": {
      "text/plain": [
       "[<matplotlib.lines.Line2D at 0x7fd5809056a0>]"
      ]
     },
     "execution_count": 52,
     "metadata": {},
     "output_type": "execute_result"
    },
    {
     "data": {
      "image/png": "[encoded data removed]",
      "text/plain": [
       "<Figure size 432x288 with 1 Axes>"
      ]
     },
     "metadata": {
      "needs_background": "light"
     },
     "output_type": "display_data"
    }
   ],
   "source": [
    "from scipy.interpolate import make_interp_spline, BSpline\n",
    "\n",
    "# 300 represents number of points to make between T.min and T.max\n",
    "train_sizes = np.arange(1, TRAIN_SIZE+1)\n",
    "x = np.linspace(train_sizes.min(), train_sizes.max(), 100)\n",
    "spline = make_interp_spline(train_sizes, test_losses, k=3)  # type: BSpline\n",
    "y = spline(x)\n",
    "\n",
    "plt.plot(x, y)"
   ]
  },
  {
   "cell_type": "code",
   "execution_count": 53,
   "metadata": {},
   "outputs": [
    {
     "data": {
      "text/plain": [
       "[<matplotlib.lines.Line2D at 0x7fd5808d1f40>]"
      ]
     },
     "execution_count": 53,
     "metadata": {},
     "output_type": "execute_result"
    },
    {
     "data": {
      "image/png": "[encoded data removed]",
      "text/plain": [
       "<Figure size 432x288 with 1 Axes>"
      ]
     },
     "metadata": {
      "needs_background": "light"
     },
     "output_type": "display_data"
    }
   ],
   "source": [
    "from scipy.ndimage import gaussian_filter1d\n",
    "\n",
    "train_sizes = np.arange(1, TRAIN_SIZE+1)\n",
    "\n",
    "test_losses_smoothed = gaussian_filter1d(test_losses, sigma=5)\n",
    "plt.plot(train_sizes, test_losses_smoothed)"
   ]
  },
  {
   "cell_type": "code",
   "execution_count": 54,
   "metadata": {},
   "outputs": [
    {
     "data": {
      "text/plain": [
       "[Parameter containing:\n",
       " tensor([[ 0.0570, -0.0100]], requires_grad=True),\n",
       " Parameter containing:\n",
       " tensor([-0.3433], requires_grad=True)]"
      ]
     },
     "execution_count": 54,
     "metadata": {},
     "output_type": "execute_result"
    }
   ],
   "source": [
    "list(model.parameters())"
   ]
  },
  {
   "cell_type": "code",
   "execution_count": null,
   "metadata": {},
   "outputs": [],
   "source": []
  }
 ],
 "metadata": {
  "kernelspec": {
   "display_name": "Python 3",
   "language": "python",
   "name": "python3"
  },
  "language_info": {
   "codemirror_mode": {
    "name": "ipython",
    "version": 3
   },
   "file_extension": ".py",
   "mimetype": "text/x-python",
   "name": "python",
   "nbconvert_exporter": "python",
   "pygments_lexer": "ipython3",
   "version": "3.8.10"
  }
 },
 "nbformat": 4,
 "nbformat_minor": 2
}
