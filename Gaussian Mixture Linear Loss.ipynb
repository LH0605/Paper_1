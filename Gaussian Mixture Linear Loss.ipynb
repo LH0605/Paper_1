{
 "cells": [
  {
   "cell_type": "code",
   "execution_count": 9,
   "metadata": {},
   "outputs": [],
   "source": [
    "import torch\n",
    "import torch.nn as nn\n",
    "import torch.utils.data as Data\n",
    "import torch.nn.functional as F\n",
    "import numpy as np\n",
    "import matplotlib.pyplot as plt"
   ]
  },
  {
   "cell_type": "code",
   "execution_count": 10,
   "metadata": {},
   "outputs": [],
   "source": [
    "mu = 1\n",
    "sigma = 2.0\n",
    "learning_rate = 1e-3\n",
    "epsilon = 1.5\n",
    "epochs = 3\n",
    "test_size = 100"
   ]
  },
  {
   "cell_type": "code",
   "execution_count": 11,
   "metadata": {},
   "outputs": [],
   "source": [
    "# define loss\n",
    "def linear_loss(output, target):\n",
    "#     print('output', output.size(), output)\n",
    "#     print('target', target.size(), target)\n",
    "    return output.t() @ target\n",
    "\n",
    "# FGSM attack\n",
    "def fgsm(model, X, y, epsilon):\n",
    "    \"\"\" Construct FGSM adversarial examples on the examples X\"\"\"\n",
    "    delta = torch.zeros_like(X, requires_grad=True)\n",
    "#     print('fgsm X, delta, y, sum:', X.size(), delta.size(), y.size(), X.float() + delta)\n",
    "    y_pred = model(X.float() + delta)\n",
    "    loss = linear_loss(y_pred, y)\n",
    "#     print('fgsm loss:', loss)\n",
    "    loss.backward()\n",
    "#     print('haha:', delta.grad.detach().sign())\n",
    "    return epsilon * delta.grad.detach().sign()\n",
    "\n",
    "def epoch_adversarial(loader, model):\n",
    "#     total_loss = 0.\n",
    "    for X, y in loader:\n",
    "        delta = fgsm(model, X.float(), y, epsilon)\n",
    "        # perturbed training data\n",
    "        x_pert = X.float() + delta\n",
    "        # predicted output\n",
    "        y_pred = model(x_pert)\n",
    "        \n",
    "        # clear gradients wrt to parameters\n",
    "        opt.zero_grad()\n",
    "        # calculate linear loss\n",
    "        loss = linear_loss(y_pred, y)\n",
    "        # get gradients wrt to parameters\n",
    "        loss.backward()\n",
    "\n",
    "        opt.step()\n",
    "\n",
    "def test_loss(loader, model):\n",
    "    total_loss = 0.\n",
    "    for X, y in loader:\n",
    "        y_pred = model(X.float())\n",
    "        test_loss = linear_loss(y_pred, y)\n",
    "        total_loss += test_loss.item() * X.shape[0]\n",
    "    return total_loss / len(loader.dataset)"
   ]
  },
  {
   "cell_type": "code",
   "execution_count": 15,
   "metadata": {},
   "outputs": [
    {
     "data": {
      "text/plain": [
       "[<matplotlib.lines.Line2D at 0x7fa86a77dbe0>]"
      ]
     },
     "execution_count": 15,
     "metadata": {},
     "output_type": "execute_result"
    },
    {
     "data": {
      "image/png": "[encoded data removed]",
      "text/plain": [
       "<Figure size 432x288 with 1 Axes>"
      ]
     },
     "metadata": {
      "needs_background": "light"
     },
     "output_type": "display_data"
    }
   ],
   "source": [
    "# define linear model\n",
    "\n",
    "test_losses = np.zeros(20)\n",
    "\n",
    "# train the model\n",
    "for train_size in range(1, 21):\n",
    "# if True:\n",
    "    \n",
    "#     train_size = 100\n",
    "    batch_size = train_size\n",
    "    # w = torch.tensor(1., requires_grad=True)\n",
    "    model = nn.Linear(1, 1, bias=False)\n",
    "    # define optimizer\n",
    "    opt = torch.optim.Adam(model.parameters(), lr=learning_rate)\n",
    "\n",
    "    x_train = torch.unsqueeze(torch.from_numpy(np.append(np.random.normal(-mu,sigma,train_size),np.random.normal(mu,sigma,train_size))), dim=1)\n",
    "    y_train = torch.cat([-torch.ones(train_size), torch.ones(train_size)])\n",
    "    x_test = torch.unsqueeze(torch.from_numpy(np.append(np.random.normal(-mu,sigma,test_size),np.random.normal(mu,sigma,test_size))), dim=1)\n",
    "    y_test = torch.cat([-torch.ones(test_size), torch.ones(test_size)])\n",
    "\n",
    "    # y_test = torch.unsqueeze(torch.cat([-torch.ones(test_size), torch.ones(test_size)]), dim=1)\n",
    "    # x_test = torch.unsqueeze(torch.normal(mu*y_test, sigma), dim=1)\n",
    "\n",
    "    # define datasets and data loaders\n",
    "    train_set = Data.TensorDataset(x_train, y_train)\n",
    "    train_loader = Data.DataLoader(dataset=train_set, batch_size=batch_size, shuffle=True)\n",
    "    test_set = Data.TensorDataset(x_test, y_test)\n",
    "    test_loader = Data.DataLoader(dataset=test_set, batch_size=batch_size, shuffle=True)\n",
    "\n",
    "    for epoch in range(epochs):\n",
    "        epoch_adversarial(train_loader, model)\n",
    "        \n",
    "#     print('test_loss:', test_loss(test_loader, model))\n",
    "\n",
    "    test_losses[train_size-1] = test_loss(test_loader, model)\n",
    "\n",
    "# logging\n",
    "# print('test_losses', test_losses)\n",
    "\n",
    "plt.plot(np.arange(1, 21), test_losses)"
   ]
  },
  {
   "cell_type": "code",
   "execution_count": 16,
   "metadata": {},
   "outputs": [
    {
     "data": {
      "text/plain": [
       "tensor([[ 0.6035],\n",
       "        [-4.0374],\n",
       "        [-1.3429],\n",
       "        [-2.3919],\n",
       "        [-2.0535],\n",
       "        [ 0.3774],\n",
       "        [-0.7801],\n",
       "        [ 2.8456],\n",
       "        [-0.0246],\n",
       "        [-4.9006],\n",
       "        [-0.7880],\n",
       "        [-2.3759],\n",
       "        [-0.5359],\n",
       "        [-4.0086],\n",
       "        [-1.1138],\n",
       "        [-1.5675],\n",
       "        [-2.3710],\n",
       "        [-0.5976],\n",
       "        [ 1.7017],\n",
       "        [-2.0140],\n",
       "        [ 3.0894],\n",
       "        [ 0.3154],\n",
       "        [ 1.4414],\n",
       "        [ 1.3209],\n",
       "        [ 3.2101],\n",
       "        [ 3.1454],\n",
       "        [ 1.5950],\n",
       "        [-0.1034],\n",
       "        [-0.5298],\n",
       "        [ 0.4137],\n",
       "        [-1.6338],\n",
       "        [ 0.5363],\n",
       "        [-0.4049],\n",
       "        [ 5.1609],\n",
       "        [-2.2905],\n",
       "        [ 3.2077],\n",
       "        [ 4.0516],\n",
       "        [ 0.3585],\n",
       "        [ 2.9817],\n",
       "        [ 6.4288]], dtype=torch.float64)"
      ]
     },
     "execution_count": 16,
     "metadata": {},
     "output_type": "execute_result"
    }
   ],
   "source": [
    "x_train"
   ]
  },
  {
   "cell_type": "code",
   "execution_count": 8,
   "metadata": {},
   "outputs": [
    {
     "data": {
      "text/plain": [
       "[Parameter containing:\n",
       " tensor([[0.5536]], requires_grad=True)]"
      ]
     },
     "execution_count": 8,
     "metadata": {},
     "output_type": "execute_result"
    }
   ],
   "source": [
    "list(model.parameters())"
   ]
  },
  {
   "cell_type": "code",
   "execution_count": null,
   "metadata": {},
   "outputs": [],
   "source": []
  }
 ],
 "metadata": {
  "kernelspec": {
   "display_name": "Python 3",
   "language": "python",
   "name": "python3"
  },
  "language_info": {
   "codemirror_mode": {
    "name": "ipython",
    "version": 3
   },
   "file_extension": ".py",
   "mimetype": "text/x-python",
   "name": "python",
   "nbconvert_exporter": "python",
   "pygments_lexer": "ipython3",
   "version": "3.8.8"
  }
 },
 "nbformat": 4,
 "nbformat_minor": 2
}
