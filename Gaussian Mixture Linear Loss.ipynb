{
 "cells": [
  {
   "cell_type": "code",
   "execution_count": 2,
   "metadata": {},
   "outputs": [],
   "source": [
    "import torch\n",
    "import torch.nn as nn\n",
    "import torch.utils.data as Data\n",
    "import torch.nn.functional as F\n",
    "import numpy as np\n",
    "import matplotlib.pyplot as plt"
   ]
  },
  {
   "cell_type": "code",
   "execution_count": 14,
   "metadata": {},
   "outputs": [],
   "source": [
    "mu = 1\n",
    "sigma = 2.0\n",
    "learning_rate = 1e-3\n",
    "epsilon = 1.0\n",
    "epochs = 1000\n",
    "batch_size = 2"
   ]
  },
  {
   "cell_type": "code",
   "execution_count": 15,
   "metadata": {},
   "outputs": [],
   "source": [
    "# define linear model\n",
    "model = nn.Linear(batch_size, batch_size, bias=False)\n",
    "\n",
    "# model parameters\n",
    "# print(list(model.parameters()))\n",
    "\n",
    "# define loss\n",
    "def linear_loss(output, target):\n",
    "    return output @ target\n",
    "\n",
    "# define optimizer\n",
    "opt = torch.optim.SGD(model.parameters(), lr=learning_rate)\n",
    "\n",
    "# FGSM attack\n",
    "def fgsm(model, X, y, epsilon):\n",
    "    \"\"\" Construct FGSM adversarial examples on the examples X\"\"\"\n",
    "    delta = torch.zeros_like(X, requires_grad=True)\n",
    "    loss = linear_loss(model(X + delta), y)\n",
    "    loss.backward()\n",
    "    return epsilon * delta.grad.detach().sign()\n",
    "\n",
    "def epoch_adversarial(loader, model):\n",
    "    total_loss = 0.\n",
    "    for X, y in loader:\n",
    "        delta = fgsm(model, X, y, epsilon)\n",
    "        # perturbed training data\n",
    "        x_pert = X + delta # .float()\n",
    "        # predicted output\n",
    "        y_pred = model(x_pert)\n",
    "        # calculate linear loss\n",
    "#         print(\"x_pert\", x_pert)\n",
    "#         print(\"y_pred\", y_pred)\n",
    "        loss = linear_loss(y_pred, y)\n",
    "\n",
    "        # clear gradients wrt to parameters\n",
    "        opt.zero_grad()\n",
    "        # get gradients wrt to parameters\n",
    "        loss.backward()\n",
    "        opt.step()\n",
    "        \n",
    "#         total_err += (y_pred.max(dim=1) != y).sum().item()\n",
    "        total_loss += loss.item() * X.shape[0]\n",
    "    return total_loss / len(loader.dataset)\n",
    "\n",
    "def epoch_test(loader, model):\n",
    "    total_loss = 0.\n",
    "    for X, y in loader:\n",
    "        y_pred = model(X)\n",
    "        loss = linear_loss(y_pred, y)\n",
    "        total_loss += loss.item() * X.shape[0]\n",
    "    return total_loss / len(loader.dataset)"
   ]
  },
  {
   "cell_type": "code",
   "execution_count": null,
   "metadata": {},
   "outputs": [
    {
     "name": "stdout",
     "output_type": "stream",
     "text": [
      "train_loss\ttest_loss\n",
      "-0.383569\t-5.597002\n",
      "0.089163\t-1.237262\n",
      "-1.035395\t-1.915035\n",
      "-6.519569\t-18.792042\n",
      "0.468623\t-4.046902\n",
      "-0.092113\t-3.951696\n"
     ]
    }
   ],
   "source": [
    "# train_size = 10\n",
    "# test_size = 200\n",
    "\n",
    "# train the model\n",
    "print (\"train_loss\", \"test_loss\", sep=\"\\t\")\n",
    "for train_size in range(10, 201, 10):\n",
    "# for train_size in range(1, 21):\n",
    "#     for epsilon in range()\n",
    "    test_size = max(1, train_size // 5)\n",
    "    \n",
    "    # want `y` to be either -1 or 1\n",
    "    y_train = torch.randint(0, 2, (train_size,)) * 2.0 - 1\n",
    "    x_train = torch.normal(mu*y_train, sigma)\n",
    "    y_test = torch.randint(0, 2, (test_size,)) * 2.0 - 1\n",
    "    x_test = torch.normal(mu*y_test, sigma)\n",
    "    \n",
    "#     batch_size = max(1, train_size // 5)\n",
    "\n",
    "    # define datasets and data loaders\n",
    "    train_set = Data.TensorDataset(x_train, y_train)\n",
    "    train_loader = Data.DataLoader(dataset=train_set, batch_size=batch_size, shuffle=True)\n",
    "    test_set = Data.TensorDataset(x_test, y_test)\n",
    "    test_loader = Data.DataLoader(dataset=test_set, batch_size=batch_size, shuffle=False)\n",
    "\n",
    "    \n",
    "    for epoch in range(1, epochs+1):\n",
    "        train_loss, test_loss = 0., 0.\n",
    "        train_loss = epoch_adversarial(train_loader, model)\n",
    "        test_loss = epoch_test(test_loader, model)\n",
    "    # logging\n",
    "#         if (epoch-1) % 10 == 0:\n",
    "    print(*(\"{:.6f}\".format(i) for i in (train_loss, test_loss)), sep=\"\\t\")"
   ]
  },
  {
   "cell_type": "code",
   "execution_count": null,
   "metadata": {},
   "outputs": [],
   "source": []
  },
  {
   "cell_type": "code",
   "execution_count": null,
   "metadata": {},
   "outputs": [],
   "source": []
  }
 ],
 "metadata": {
  "kernelspec": {
   "display_name": "Python 3",
   "language": "python",
   "name": "python3"
  },
  "language_info": {
   "codemirror_mode": {
    "name": "ipython",
    "version": 3
   },
   "file_extension": ".py",
   "mimetype": "text/x-python",
   "name": "python",
   "nbconvert_exporter": "python",
   "pygments_lexer": "ipython3",
   "version": "3.8.8"
  }
 },
 "nbformat": 4,
 "nbformat_minor": 2
}
