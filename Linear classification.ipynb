{
 "cells": [
  {
   "cell_type": "code",
   "execution_count": 1,
   "metadata": {},
   "outputs": [],
   "source": [
    "import torch\n",
    "import torch.nn as nn\n",
    "import torch.utils.data as Data\n",
    "import torch.nn.functional as F\n",
    "import numpy as np\n",
    "import matplotlib.pyplot as plt"
   ]
  },
  {
   "cell_type": "code",
   "execution_count": 2,
   "metadata": {},
   "outputs": [],
   "source": [
    "mu = 1\n",
    "sigma = 2\n",
    "learning_rate = 1e-1\n",
    "epsilon = 0\n",
    "num_epochs = 3\n",
    "TEST_SIZE = 100\n",
    "TRAIN_SIZE = 30\n",
    "BEST_MODEL_PATH = 'best_gaussian_mixture_linear_loss_model.pt'"
   ]
  },
  {
   "cell_type": "code",
   "execution_count": 53,
   "metadata": {},
   "outputs": [],
   "source": [
    "class WeightClipper(object):\n",
    "    def __call__(self, module):\n",
    "        # filter the variables to get the ones you want\n",
    "        if hasattr(module, 'weight'):\n",
    "            w = module.weight.data\n",
    "            W = 2.\n",
    "            module.weight.data = w.clamp(-W, W)\n",
    "\n",
    "clipper = WeightClipper()"
   ]
  },
  {
   "cell_type": "code",
   "execution_count": 54,
   "metadata": {},
   "outputs": [],
   "source": [
    "x_test = torch.unsqueeze(torch.cat([torch.distributions.Normal(-mu, sigma).sample((TEST_SIZE,)), torch.distributions.Normal(mu, sigma).sample((TEST_SIZE,))]), dim=1).float()\n",
    "y_test = torch.unsqueeze(torch.cat([-torch.ones(TEST_SIZE), torch.ones(TEST_SIZE)]), dim=1).float()\n",
    "test_set = Data.TensorDataset(x_test, y_test)\n",
    "test_loader = Data.DataLoader(dataset=test_set, batch_size=TEST_SIZE//10, shuffle=False)"
   ]
  },
  {
   "cell_type": "code",
   "execution_count": 55,
   "metadata": {},
   "outputs": [],
   "source": [
    "def linear_loss(output, target):\n",
    "    return -output.t() @ target"
   ]
  },
  {
   "cell_type": "code",
   "execution_count": 56,
   "metadata": {},
   "outputs": [],
   "source": [
    "def fgsm(model, x, y, epsilon):\n",
    "    \"\"\" Construct FGSM adversarial examples on the examples X\"\"\"\n",
    "    x.requires_grad = True\n",
    "    output = model(x)\n",
    "    loss = loss_fn(output, y)\n",
    "    model.zero_grad()\n",
    "    loss.backward()\n",
    "    return epsilon * x.grad.data.sign()"
   ]
  },
  {
   "cell_type": "code",
   "execution_count": 57,
   "metadata": {},
   "outputs": [],
   "source": [
    "def fit(num_epochs, train_loader, model, loss_fn, opt):\n",
    "    model.train()\n",
    "    for epoch in range(num_epochs):\n",
    "        sum_loss = 0\n",
    "        best_loss = float('inf')\n",
    "        \n",
    "        for x, y in train_loader:\n",
    "            opt.zero_grad()\n",
    "            delta = fgsm(model, x, y, epsilon)\n",
    "            # perturbed training data\n",
    "            x_pert = x + delta\n",
    "            # predicted output\n",
    "            y_pred = model(x_pert)\n",
    "            loss = loss_fn(y_pred, y)\n",
    "            loss.backward()\n",
    "            opt.step()\n",
    "            model.apply(clipper)\n",
    "            sum_loss += float(loss)\n",
    "        epoch_train_loss = sum_loss / train_size\n",
    "        if epoch_train_loss < best_loss:\n",
    "            best_loss = epoch_train_loss\n",
    "            torch.save(model.state_dict(), BEST_MODEL_PATH)\n",
    "\n",
    "    sum_test_loss = 0\n",
    "    model = nn.Linear(1, 1, bias=False)\n",
    "    model.load_state_dict(torch.load(BEST_MODEL_PATH))\n",
    "    model.eval()\n",
    "    for x, y in test_loader:\n",
    "        y_pred = model(x)\n",
    "        loss = loss_fn(y_pred, y)\n",
    "        sum_test_loss += loss\n",
    "    temp = sum_test_loss / TEST_SIZE\n",
    "    return temp"
   ]
  },
  {
   "cell_type": "code",
   "execution_count": 58,
   "metadata": {
    "scrolled": false
   },
   "outputs": [],
   "source": [
    "loss_fn = linear_loss\n",
    "test_losses = np.zeros(TRAIN_SIZE)\n",
    "\n",
    "for train_size in range(1, TRAIN_SIZE+1):\n",
    "    N = 30\n",
    "    temp = np.zeros(N)\n",
    "    for i in range(N):\n",
    "        model = nn.Linear(1, 1, bias=False)\n",
    "        opt = torch.optim.Adam(model.parameters(), lr=learning_rate)\n",
    "        batch_size = min(5, train_size)\n",
    "        x_train = torch.unsqueeze(torch.cat([torch.distributions.Normal(-mu, sigma).sample((train_size,)), torch.distributions.Normal(mu, sigma).sample((train_size,))]), dim=1).float()\n",
    "        y_train = torch.unsqueeze(torch.cat([-torch.ones(train_size), torch.ones(train_size)]), dim=1).float()\n",
    "        train_set = Data.TensorDataset(x_train, y_train)\n",
    "        train_loader = Data.DataLoader(dataset=train_set, batch_size=batch_size, shuffle=True)\n",
    "        test_loss = fit(num_epochs, train_loader, model, loss_fn, opt)\n",
    "        temp[i] = test_loss.item()\n",
    "    mean = np.mean(temp)\n",
    "    test_losses[train_size-1] = test_loss.item()"
   ]
  },
  {
   "cell_type": "code",
   "execution_count": 59,
   "metadata": {},
   "outputs": [
    {
     "data": {
      "text/plain": [
       "[<matplotlib.lines.Line2D at 0x7f82d9e1c370>]"
      ]
     },
     "execution_count": 59,
     "metadata": {},
     "output_type": "execute_result"
    },
    {
     "data": {
      "image/png": "[encoded data removed]",
      "text/plain": [
       "<Figure size 432x288 with 1 Axes>"
      ]
     },
     "metadata": {
      "needs_background": "light"
     },
     "output_type": "display_data"
    }
   ],
   "source": [
    "train_sizes = np.arange(1, TRAIN_SIZE+1)\n",
    "plt.plot(train_sizes, test_losses)"
   ]
  },
  {
   "cell_type": "code",
   "execution_count": 60,
   "metadata": {},
   "outputs": [
    {
     "name": "stdout",
     "output_type": "stream",
     "text": [
      "[Parameter containing:\n",
      "tensor([[2.]], requires_grad=True)]\n"
     ]
    }
   ],
   "source": [
    "print(list(model.parameters()))"
   ]
  },
  {
   "cell_type": "code",
   "execution_count": 61,
   "metadata": {},
   "outputs": [
    {
     "data": {
      "text/plain": [
       "array([ 1.9584564 , -1.36667085,  0.26251793, -2.32841253, -0.85779303,\n",
       "        0.11192636,  0.36775771, -2.42685461, -3.03901267, -2.61920023,\n",
       "       -2.34098625, -1.87006831, -0.78442401, -0.58212972, -1.18594587,\n",
       "       -3.38967752, -3.38967752, -3.38967752, -3.17543244, -2.01275516,\n",
       "       -3.38967752, -3.38967752, -3.35931301, -3.38967752, -3.38967752,\n",
       "       -2.84813666, -3.38967752, -3.38967752, -3.05247712, -3.38967752])"
      ]
     },
     "execution_count": 61,
     "metadata": {},
     "output_type": "execute_result"
    }
   ],
   "source": [
    "test_losses"
   ]
  },
  {
   "cell_type": "code",
   "execution_count": null,
   "metadata": {},
   "outputs": [],
   "source": []
  }
 ],
 "metadata": {
  "kernelspec": {
   "display_name": "Python 3",
   "language": "python",
   "name": "python3"
  },
  "language_info": {
   "codemirror_mode": {
    "name": "ipython",
    "version": 3
   },
   "file_extension": ".py",
   "mimetype": "text/x-python",
   "name": "python",
   "nbconvert_exporter": "python",
   "pygments_lexer": "ipython3",
   "version": "3.8.8"
  }
 },
 "nbformat": 4,
 "nbformat_minor": 2
}
