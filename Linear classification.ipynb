{
 "cells": [
  {
   "cell_type": "code",
   "execution_count": 23,
   "metadata": {},
   "outputs": [],
   "source": [
    "import numpy as np\n",
    "import torch\n",
    "import torch.nn as nn\n",
    "import torch.utils.data as Data\n",
    "from torch.optim import SGD, Adam\n",
    "import matplotlib.pyplot as plt"
   ]
  },
  {
   "cell_type": "code",
   "execution_count": 24,
   "metadata": {},
   "outputs": [],
   "source": [
    "mu = 1\n",
    "sigma = 2\n",
    "learning_rate = 1e-1\n",
    "num_epochs = 100\n",
    "W = 1.\n",
    "TEST_SIZE = 1000\n",
    "TRAIN_SIZE = 30\n",
    "BEST_MODEL_PATH = 'best_gaussian_mixture_linear_loss_model.pt'"
   ]
  },
  {
   "cell_type": "code",
   "execution_count": 25,
   "metadata": {},
   "outputs": [],
   "source": [
    "class WeightClipper(object):\n",
    "    def __call__(self, module):\n",
    "        # filter the variables to get the ones you want\n",
    "        if hasattr(module, 'weight'):\n",
    "            w = module.weight.data\n",
    "            module.weight.data = w.clamp(-W, W)\n",
    "\n",
    "clipper = WeightClipper()"
   ]
  },
  {
   "cell_type": "code",
   "execution_count": 26,
   "metadata": {},
   "outputs": [],
   "source": [
    "x_test = torch.unsqueeze(torch.cat([torch.distributions.Normal(-mu, sigma).sample((TEST_SIZE,)), torch.distributions.Normal(mu, sigma).sample((TEST_SIZE,))]), dim=1).float()\n",
    "y_test = torch.unsqueeze(torch.cat([-torch.ones(TEST_SIZE), torch.ones(TEST_SIZE)]), dim=1).float()\n",
    "test_set = Data.TensorDataset(x_test, y_test)\n",
    "test_loader = Data.DataLoader(dataset=test_set, batch_size=TEST_SIZE//10, shuffle=False)"
   ]
  },
  {
   "cell_type": "code",
   "execution_count": 27,
   "metadata": {},
   "outputs": [],
   "source": [
    "def linear_loss(output, target):\n",
    "    return -output.t() @ target"
   ]
  },
  {
   "cell_type": "code",
   "execution_count": 28,
   "metadata": {},
   "outputs": [],
   "source": [
    "def fgsm(model, x, y, loss_fn, epsilon):\n",
    "    \"\"\" Construct FGSM adversarial examples on the examples X\"\"\"\n",
    "    x.requires_grad = True\n",
    "    output = model(x)\n",
    "    loss = loss_fn(output, y)\n",
    "    model.zero_grad()\n",
    "    loss.backward()\n",
    "    return epsilon * x.grad.data.sign()"
   ]
  },
  {
   "cell_type": "code",
   "execution_count": 29,
   "metadata": {},
   "outputs": [],
   "source": [
    "def fit(num_epochs, train_loader, model, loss_fn, opt, train_size, epsilon):\n",
    "    model.train()\n",
    "    best_loss = float('inf')\n",
    "    for epoch in range(num_epochs):\n",
    "        sum_loss = 0\n",
    "        for x, y in train_loader:\n",
    "            opt.zero_grad()\n",
    "            delta = fgsm(model, x, y, loss_fn, epsilon)\n",
    "            # perturbed training data\n",
    "            x_pert = x + delta\n",
    "            # predicted output\n",
    "            y_pred = model(x_pert)\n",
    "            loss = loss_fn(y_pred, y)\n",
    "            loss.backward()\n",
    "            opt.step()\n",
    "            model.apply(clipper)\n",
    "            sum_loss += float(loss)\n",
    "        epoch_train_loss = sum_loss / train_size\n",
    "        if epoch_train_loss < best_loss:\n",
    "            best_loss = epoch_train_loss\n",
    "            torch.save(model.state_dict(), BEST_MODEL_PATH)\n",
    "\n",
    "    sum_test_loss = 0\n",
    "    model = nn.Linear(1, 1, bias=False)\n",
    "    model.load_state_dict(torch.load(BEST_MODEL_PATH))\n",
    "    model.eval()\n",
    "    for x, y in test_loader:\n",
    "        y_pred = model(x)\n",
    "        loss = loss_fn(y_pred, y)\n",
    "        sum_test_loss += loss\n",
    "    temp = sum_test_loss / TEST_SIZE\n",
    "    return temp"
   ]
  },
  {
   "cell_type": "code",
   "execution_count": 30,
   "metadata": {
    "scrolled": false
   },
   "outputs": [
    {
     "ename": "KeyboardInterrupt",
     "evalue": "",
     "output_type": "error",
     "traceback": [
      "\u001b[0;31m---------------------------------------------------------------------------\u001b[0m",
      "\u001b[0;31mKeyboardInterrupt\u001b[0m                         Traceback (most recent call last)",
      "Input \u001b[0;32mIn [30]\u001b[0m, in \u001b[0;36m<cell line: 4>\u001b[0;34m()\u001b[0m\n\u001b[1;32m     15\u001b[0m     train_set \u001b[38;5;241m=\u001b[39m Data\u001b[38;5;241m.\u001b[39mTensorDataset(x_train, y_train)\n\u001b[1;32m     16\u001b[0m     train_loader \u001b[38;5;241m=\u001b[39m Data\u001b[38;5;241m.\u001b[39mDataLoader(dataset\u001b[38;5;241m=\u001b[39mtrain_set, batch_size\u001b[38;5;241m=\u001b[39mbatch_size, shuffle\u001b[38;5;241m=\u001b[39m\u001b[38;5;28;01mTrue\u001b[39;00m)\n\u001b[0;32m---> 17\u001b[0m     test_loss \u001b[38;5;241m=\u001b[39m \u001b[43mfit\u001b[49m\u001b[43m(\u001b[49m\u001b[43mnum_epochs\u001b[49m\u001b[43m,\u001b[49m\u001b[43m \u001b[49m\u001b[43mtrain_loader\u001b[49m\u001b[43m,\u001b[49m\u001b[43m \u001b[49m\u001b[43mmodel\u001b[49m\u001b[43m,\u001b[49m\u001b[43m \u001b[49m\u001b[43mloss_fn\u001b[49m\u001b[43m,\u001b[49m\u001b[43m \u001b[49m\u001b[43mopt\u001b[49m\u001b[43m,\u001b[49m\u001b[43m \u001b[49m\u001b[43mtrain_size\u001b[49m\u001b[43m,\u001b[49m\u001b[43m \u001b[49m\u001b[43mepsilon\u001b[49m\u001b[43m)\u001b[49m\n\u001b[1;32m     18\u001b[0m     temp[j] \u001b[38;5;241m=\u001b[39m test_loss\u001b[38;5;241m.\u001b[39mitem()\n\u001b[1;32m     19\u001b[0m mean \u001b[38;5;241m=\u001b[39m np\u001b[38;5;241m.\u001b[39mmean(temp)\n",
      "Input \u001b[0;32mIn [29]\u001b[0m, in \u001b[0;36mfit\u001b[0;34m(num_epochs, train_loader, model, loss_fn, opt, train_size, epsilon)\u001b[0m\n\u001b[1;32m      6\u001b[0m \u001b[38;5;28;01mfor\u001b[39;00m x, y \u001b[38;5;129;01min\u001b[39;00m train_loader:\n\u001b[1;32m      7\u001b[0m     opt\u001b[38;5;241m.\u001b[39mzero_grad()\n\u001b[0;32m----> 8\u001b[0m     delta \u001b[38;5;241m=\u001b[39m \u001b[43mfgsm\u001b[49m\u001b[43m(\u001b[49m\u001b[43mmodel\u001b[49m\u001b[43m,\u001b[49m\u001b[43m \u001b[49m\u001b[43mx\u001b[49m\u001b[43m,\u001b[49m\u001b[43m \u001b[49m\u001b[43my\u001b[49m\u001b[43m,\u001b[49m\u001b[43m \u001b[49m\u001b[43mloss_fn\u001b[49m\u001b[43m,\u001b[49m\u001b[43m \u001b[49m\u001b[43mepsilon\u001b[49m\u001b[43m)\u001b[49m\n\u001b[1;32m      9\u001b[0m     \u001b[38;5;66;03m# perturbed training data\u001b[39;00m\n\u001b[1;32m     10\u001b[0m     x_pert \u001b[38;5;241m=\u001b[39m x \u001b[38;5;241m+\u001b[39m delta\n",
      "Input \u001b[0;32mIn [28]\u001b[0m, in \u001b[0;36mfgsm\u001b[0;34m(model, x, y, loss_fn, epsilon)\u001b[0m\n\u001b[1;32m      5\u001b[0m loss \u001b[38;5;241m=\u001b[39m loss_fn(output, y)\n\u001b[1;32m      6\u001b[0m model\u001b[38;5;241m.\u001b[39mzero_grad()\n\u001b[0;32m----> 7\u001b[0m \u001b[43mloss\u001b[49m\u001b[38;5;241;43m.\u001b[39;49m\u001b[43mbackward\u001b[49m\u001b[43m(\u001b[49m\u001b[43m)\u001b[49m\n\u001b[1;32m      8\u001b[0m \u001b[38;5;28;01mreturn\u001b[39;00m epsilon \u001b[38;5;241m*\u001b[39m x\u001b[38;5;241m.\u001b[39mgrad\u001b[38;5;241m.\u001b[39mdata\u001b[38;5;241m.\u001b[39msign()\n",
      "File \u001b[0;32m/opt/homebrew/lib/python3.9/site-packages/torch/_tensor.py:363\u001b[0m, in \u001b[0;36mTensor.backward\u001b[0;34m(self, gradient, retain_graph, create_graph, inputs)\u001b[0m\n\u001b[1;32m    354\u001b[0m \u001b[38;5;28;01mif\u001b[39;00m has_torch_function_unary(\u001b[38;5;28mself\u001b[39m):\n\u001b[1;32m    355\u001b[0m     \u001b[38;5;28;01mreturn\u001b[39;00m handle_torch_function(\n\u001b[1;32m    356\u001b[0m         Tensor\u001b[38;5;241m.\u001b[39mbackward,\n\u001b[1;32m    357\u001b[0m         (\u001b[38;5;28mself\u001b[39m,),\n\u001b[0;32m   (...)\u001b[0m\n\u001b[1;32m    361\u001b[0m         create_graph\u001b[38;5;241m=\u001b[39mcreate_graph,\n\u001b[1;32m    362\u001b[0m         inputs\u001b[38;5;241m=\u001b[39minputs)\n\u001b[0;32m--> 363\u001b[0m \u001b[43mtorch\u001b[49m\u001b[38;5;241;43m.\u001b[39;49m\u001b[43mautograd\u001b[49m\u001b[38;5;241;43m.\u001b[39;49m\u001b[43mbackward\u001b[49m\u001b[43m(\u001b[49m\u001b[38;5;28;43mself\u001b[39;49m\u001b[43m,\u001b[49m\u001b[43m \u001b[49m\u001b[43mgradient\u001b[49m\u001b[43m,\u001b[49m\u001b[43m \u001b[49m\u001b[43mretain_graph\u001b[49m\u001b[43m,\u001b[49m\u001b[43m \u001b[49m\u001b[43mcreate_graph\u001b[49m\u001b[43m,\u001b[49m\u001b[43m \u001b[49m\u001b[43minputs\u001b[49m\u001b[38;5;241;43m=\u001b[39;49m\u001b[43minputs\u001b[49m\u001b[43m)\u001b[49m\n",
      "File \u001b[0;32m/opt/homebrew/lib/python3.9/site-packages/torch/autograd/__init__.py:173\u001b[0m, in \u001b[0;36mbackward\u001b[0;34m(tensors, grad_tensors, retain_graph, create_graph, grad_variables, inputs)\u001b[0m\n\u001b[1;32m    168\u001b[0m     retain_graph \u001b[38;5;241m=\u001b[39m create_graph\n\u001b[1;32m    170\u001b[0m \u001b[38;5;66;03m# The reason we repeat same the comment below is that\u001b[39;00m\n\u001b[1;32m    171\u001b[0m \u001b[38;5;66;03m# some Python versions print out the first line of a multi-line function\u001b[39;00m\n\u001b[1;32m    172\u001b[0m \u001b[38;5;66;03m# calls in the traceback and some print out the last line\u001b[39;00m\n\u001b[0;32m--> 173\u001b[0m \u001b[43mVariable\u001b[49m\u001b[38;5;241;43m.\u001b[39;49m\u001b[43m_execution_engine\u001b[49m\u001b[38;5;241;43m.\u001b[39;49m\u001b[43mrun_backward\u001b[49m\u001b[43m(\u001b[49m\u001b[43m  \u001b[49m\u001b[38;5;66;43;03m# Calls into the C++ engine to run the backward pass\u001b[39;49;00m\n\u001b[1;32m    174\u001b[0m \u001b[43m    \u001b[49m\u001b[43mtensors\u001b[49m\u001b[43m,\u001b[49m\u001b[43m \u001b[49m\u001b[43mgrad_tensors_\u001b[49m\u001b[43m,\u001b[49m\u001b[43m \u001b[49m\u001b[43mretain_graph\u001b[49m\u001b[43m,\u001b[49m\u001b[43m \u001b[49m\u001b[43mcreate_graph\u001b[49m\u001b[43m,\u001b[49m\u001b[43m \u001b[49m\u001b[43minputs\u001b[49m\u001b[43m,\u001b[49m\n\u001b[1;32m    175\u001b[0m \u001b[43m    \u001b[49m\u001b[43mallow_unreachable\u001b[49m\u001b[38;5;241;43m=\u001b[39;49m\u001b[38;5;28;43;01mTrue\u001b[39;49;00m\u001b[43m,\u001b[49m\u001b[43m \u001b[49m\u001b[43maccumulate_grad\u001b[49m\u001b[38;5;241;43m=\u001b[39;49m\u001b[38;5;28;43;01mTrue\u001b[39;49;00m\u001b[43m)\u001b[49m\n",
      "\u001b[0;31mKeyboardInterrupt\u001b[0m: "
     ]
    }
   ],
   "source": [
    "loss_fn = linear_loss\n",
    "epsilons = [0, 0.1, 0.3, 0.5, 0.7, 0.9, 1.1, 1.3, 1.5, 1.7, 1.9, 2.1, 2.3, 2.5, 2.7, 3.0]\n",
    "test_losses = np.zeros((len(epsilons), TRAIN_SIZE))\n",
    "for i in range(len(epsilons)):\n",
    "    epsilon = epsilons[i]\n",
    "    for train_size in range(1, TRAIN_SIZE+1):\n",
    "        N = 100\n",
    "        temp = np.zeros(N)\n",
    "        for j in range(N):\n",
    "            model = nn.Linear(1, 1, bias=False)\n",
    "            opt = Adam(model.parameters(), lr=learning_rate)\n",
    "            batch_size = min(5, train_size)\n",
    "            x_train = torch.unsqueeze(torch.cat([torch.distributions.Normal(-mu, sigma).sample((train_size,)), torch.distributions.Normal(mu, sigma).sample((train_size,))]), dim=1).float()\n",
    "            y_train = torch.unsqueeze(torch.cat([-torch.ones(train_size), torch.ones(train_size)]), dim=1).float()\n",
    "            train_set = Data.TensorDataset(x_train, y_train)\n",
    "            train_loader = Data.DataLoader(dataset=train_set, batch_size=batch_size, shuffle=True)\n",
    "            test_loss = fit(num_epochs, train_loader, model, loss_fn, opt, train_size, epsilon)\n",
    "            temp[j] = test_loss.item()\n",
    "        mean = np.mean(temp)\n",
    "        test_losses[i, train_size-1] = mean.item()\n",
    "\n",
    "print(\"test_losses:\", test_losses)"
   ]
  },
  {
   "cell_type": "code",
   "execution_count": null,
   "metadata": {},
   "outputs": [],
   "source": [
    "step = 5\n",
    "train_sizes = np.arange(1, TRAIN_SIZE+1)"
   ]
  },
  {
   "cell_type": "code",
   "execution_count": null,
   "metadata": {},
   "outputs": [],
   "source": [
    "plt.title(\"Gaussian Mixture with Linear Loss (weak)\")\n",
    "plt.xlabel(\"Size of Training Dataset\")\n",
    "plt.ylabel(\"Test Loss\")\n",
    "plt.plot(train_sizes, test_losses[0], 'r--', label=f\"Ɛ = 0\")\n",
    "for i in range(len(epsilons[1:1+step])):\n",
    "    epsilon = epsilons[1+i]\n",
    "    plt.plot(train_sizes, test_losses[1+i], label=f\"Ɛ = {epsilon}\")\n",
    "plt.legend(loc=\"best\")\n",
    "plt.savefig(f\"linear_weak.png\")\n",
    "plt.clf()"
   ]
  },
  {
   "cell_type": "code",
   "execution_count": null,
   "metadata": {},
   "outputs": [],
   "source": [
    "plt.title(\"Gaussian Mixture with Linear Loss (medium)\")\n",
    "plt.xlabel(\"Size of Training Dataset\")\n",
    "plt.ylabel(\"Test Loss\")\n",
    "plt.plot(train_sizes, test_losses[0], 'r--', label=f\"Ɛ = 0\")\n",
    "for i in range(len(epsilons[1+step:1+(2*step)])):\n",
    "    epsilon = epsilons[1+step+i]\n",
    "    plt.plot(train_sizes, test_losses[1+step+i], label=f\"Ɛ = {epsilon}\")\n",
    "plt.legend(loc=\"best\")\n",
    "plt.savefig(f\"linear_medium.png\")\n",
    "plt.clf()"
   ]
  },
  {
   "cell_type": "code",
   "execution_count": null,
   "metadata": {},
   "outputs": [],
   "source": [
    "plt.title(\"Gaussian Mixture with Linear Loss (strong)\")\n",
    "plt.xlabel(\"Size of Training Dataset\")\n",
    "plt.ylabel(\"Test Loss\")\n",
    "plt.plot(train_sizes, test_losses[0], 'r--', label=f\"Ɛ = 0\")\n",
    "for i in range(len(epsilons[1+(2*step):])):\n",
    "    epsilon = epsilons[1+(2*step)+i]\n",
    "    plt.plot(train_sizes, test_losses[1+(2*step)+i], label=f\"Ɛ = {epsilon}\")\n",
    "plt.legend(loc=\"best\")\n",
    "plt.savefig(f\"linear_strong.png\")"
   ]
  },
  {
   "cell_type": "code",
   "execution_count": null,
   "metadata": {},
   "outputs": [],
   "source": []
  },
  {
   "cell_type": "code",
   "execution_count": null,
   "metadata": {},
   "outputs": [],
   "source": []
  }
 ],
 "metadata": {
  "kernelspec": {
   "display_name": "Python 3 (ipykernel)",
   "language": "python",
   "name": "python3"
  },
  "language_info": {
   "codemirror_mode": {
    "name": "ipython",
    "version": 3
   },
   "file_extension": ".py",
   "mimetype": "text/x-python",
   "name": "python",
   "nbconvert_exporter": "python",
   "pygments_lexer": "ipython3",
   "version": "3.9.13"
  },
  "vscode": {
   "interpreter": {
    "hash": "b0fa6594d8f4cbf19f97940f81e996739fb7646882a419484c72d19e05852a7e"
   }
  }
 },
 "nbformat": 4,
 "nbformat_minor": 2
}
