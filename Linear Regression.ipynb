{
 "cells": [
  {
   "cell_type": "code",
   "execution_count": 1,
   "metadata": {},
   "outputs": [],
   "source": [
    "import numpy as np\n",
    "import torch\n",
    "import torch.nn as nn\n",
    "import torch.utils.data as Data\n",
    "from torch.optim import SGD, Adam\n",
    "import matplotlib.pyplot as plt\n"
   ]
  },
  {
   "cell_type": "code",
   "execution_count": 2,
   "metadata": {},
   "outputs": [],
   "source": [
    "mu = 0\n",
    "sigma = 1\n",
    "learning_rate = 1e-1\n",
    "# epsilon = 3.\n",
    "num_epochs = 100\n",
    "c = 0.1\n",
    "TEST_SIZE = 100 # TODO: change to 5k!\n",
    "TRAIN_SIZE = 50\n",
    "BEST_MODEL_PATH = 'best_linalg_model.pt'\n"
   ]
  },
  {
   "cell_type": "code",
   "execution_count": 3,
   "metadata": {},
   "outputs": [],
   "source": [
    "low, high = 1, 5\n",
    "w_star = low + torch.rand(1) * (high - low)\n",
    "e = torch.randn(TEST_SIZE, 1)\n",
    "x_test = torch.randn(TEST_SIZE, 1)\n",
    "y_test = w_star * x_test + e\n",
    "test_set = Data.TensorDataset(x_test, y_test)\n",
    "test_loader = Data.DataLoader(dataset=test_set, batch_size=TEST_SIZE//10, shuffle=False)\n"
   ]
  },
  {
   "cell_type": "code",
   "execution_count": 4,
   "metadata": {},
   "outputs": [],
   "source": [
    "def train_mse_loss(output, target):\n",
    "    return nn.MSELoss()(output, target)\n",
    "\n",
    "def test_mse_loss(weight):\n",
    "    return nn.MSELoss()(weight, w_star)\n"
   ]
  },
  {
   "cell_type": "code",
   "execution_count": 5,
   "metadata": {},
   "outputs": [],
   "source": [
    "def fgsm(model, x, y, epsilon):\n",
    "    \"\"\" Construct FGSM adversarial examples on the examples X\"\"\"\n",
    "    x.requires_grad = True\n",
    "    output = model(x)\n",
    "    loss = train_mse_loss(output, y)\n",
    "    model.zero_grad()\n",
    "    loss.backward()\n",
    "    return epsilon * x.grad.data.sign()"
   ]
  },
  {
   "cell_type": "code",
   "execution_count": 6,
   "metadata": {},
   "outputs": [],
   "source": [
    "def fit(num_epochs, train_loader, model, opt, train_size, epsilon):\n",
    "    model.train()\n",
    "    for epoch in range(num_epochs):\n",
    "        sum_loss = 0\n",
    "        best_loss = float('inf')\n",
    "        for x, y in train_loader:\n",
    "            opt.zero_grad()\n",
    "            delta = fgsm(model, x, y, epsilon)\n",
    "            # perturbed training data\n",
    "            x_pert = x + delta\n",
    "            # predicted output\n",
    "            y_pred = model(x_pert)\n",
    "        \n",
    "#             y_pred = model(x)\n",
    "            weight = model.weight.t() # .squeeze()\n",
    "            loss = train_mse_loss(y_pred, y)\n",
    "            loss.backward()\n",
    "            opt.step()\n",
    "            sum_loss += float(loss)\n",
    "        epoch_train_loss = sum_loss / train_size\n",
    "        if epoch_train_loss < best_loss:\n",
    "            best_loss = epoch_train_loss\n",
    "            torch.save(model.state_dict(), BEST_MODEL_PATH)\n",
    "#         print(\"Epoch:\", epoch)\n",
    "#         print(\"Training loss:\", sum_loss / train_size)\n",
    "\n",
    "    # calc test loss\n",
    "    sum_test_loss = 0\n",
    "    model = nn.Linear(1, 1, bias=False)\n",
    "    model.load_state_dict(torch.load(BEST_MODEL_PATH))\n",
    "    model.eval()\n",
    "    for x, y in test_loader:\n",
    "        weight = model.weight.t()\n",
    "        loss = test_mse_loss(weight)\n",
    "        sum_test_loss += loss\n",
    "    #     print('Training loss: ', loss_fn(model(x_train), y_train))\n",
    "#     print('Test loss: ', test_loss / test_size)\n",
    "    return sum_test_loss / TEST_SIZE\n"
   ]
  },
  {
   "cell_type": "code",
   "execution_count": 7,
   "metadata": {},
   "outputs": [
    {
     "name": "stderr",
     "output_type": "stream",
     "text": [
      "/opt/homebrew/lib/python3.9/site-packages/torch/nn/modules/loss.py:529: UserWarning: Using a target size (torch.Size([1])) that is different to the input size (torch.Size([1, 1])). This will likely lead to incorrect results due to broadcasting. Please ensure they have the same size.\n",
      "  return F.mse_loss(input, target, reduction=self.reduction)\n"
     ]
    }
   ],
   "source": [
    "epsilons = [0, 0.2, 0.4, 0.6, 0.8, 1.0, 1.5, 2.0, 2.5, 3.0]\n",
    "test_losses = np.zeros((len(epsilons), TRAIN_SIZE))\n",
    "for i in range(len(epsilons)):\n",
    "    epsilon = epsilons[i]\n",
    "    for train_size in range(1, TRAIN_SIZE+1):\n",
    "        N = 100\n",
    "        temp = np.zeros(N)\n",
    "        for j in range(N):\n",
    "            model = nn.Linear(1, 1, bias=False)\n",
    "            opt = Adam(model.parameters(), lr=learning_rate)\n",
    "            batch_size = min(5, train_size)\n",
    "            e = torch.randn(TRAIN_SIZE, 1)\n",
    "            x_train = torch.randn(TRAIN_SIZE, 1)\n",
    "            y_train = w_star * x_train + e\n",
    "            train_set = Data.TensorDataset(x_train, y_train)\n",
    "            train_loader = Data.DataLoader(dataset=train_set, batch_size=batch_size, shuffle=True)\n",
    "            test_loss = fit(num_epochs, train_loader, model, opt, train_size, epsilon)\n",
    "            temp[j] = test_loss.item()\n",
    "        mean = np.mean(temp)\n",
    "        test_losses[i, train_size-1] = mean.item()\n",
    "\n",
    "print(\"test_losses:\", test_losses)\n"
   ]
  },
  {
   "cell_type": "code",
   "execution_count": null,
   "metadata": {},
   "outputs": [],
   "source": [
    "step = 3\n",
    "train_sizes = np.arange(1, TRAIN_SIZE+1)\n",
    "plt.title(\"Linear Regression Gaussian (weak)\")\n",
    "plt.xlabel(\"Size of Training Dataset\")\n",
    "plt.ylabel(\"Test Loss\")\n",
    "plt.plot(train_sizes, test_losses[0], 'b--', label=f\"Ɛ = 0\")\n",
    "for i in range(len(epsilons[1:1+step])):\n",
    "    epsilon = epsilons[1+i]\n",
    "    plt.plot(train_sizes, test_losses[1+i], label=f\"Ɛ = {epsilon}\")\n",
    "plt.legend(loc=\"best\")\n",
    "plt.show()"
   ]
  },
  {
   "cell_type": "code",
   "execution_count": null,
   "metadata": {},
   "outputs": [],
   "source": [
    "plt.title(\"Linear Regression Gaussian (medium)\")\n",
    "plt.xlabel(\"Size of Training Dataset\")\n",
    "plt.ylabel(\"Test Loss\")\n",
    "plt.plot(train_sizes, test_losses[0], 'b--', label=f\"Ɛ = 0\")\n",
    "for i in range(len(epsilons[1+step:1+(2*step)])):\n",
    "    epsilon = epsilons[1+step+i]\n",
    "    plt.plot(train_sizes, test_losses[1+step+i], label=f\"Ɛ = {epsilon}\")\n",
    "plt.legend(loc=\"best\")\n",
    "plt.show()"
   ]
  },
  {
   "cell_type": "code",
   "execution_count": null,
   "metadata": {},
   "outputs": [],
   "source": [
    "plt.title(\"Linear Regression Gaussian (strong)\")\n",
    "plt.xlabel(\"Size of Training Dataset\")\n",
    "plt.ylabel(\"Test Loss\")\n",
    "plt.plot(train_sizes, test_losses[0], 'b--', label=f\"Ɛ = 0\")\n",
    "for i in range(len(epsilons[1+(2*step):])):\n",
    "    epsilon = epsilons[1+(2*step)+i]\n",
    "    plt.plot(train_sizes, test_losses[1+(2*step)+i], label=f\"Ɛ = {epsilon}\")\n",
    "plt.legend(loc=\"best\")\n",
    "plt.show()"
   ]
  },
  {
   "cell_type": "code",
   "execution_count": null,
   "metadata": {},
   "outputs": [],
   "source": []
  },
  {
   "cell_type": "code",
   "execution_count": null,
   "metadata": {},
   "outputs": [],
   "source": []
  },
  {
   "cell_type": "code",
   "execution_count": null,
   "metadata": {},
   "outputs": [],
   "source": []
  },
  {
   "cell_type": "code",
   "execution_count": null,
   "metadata": {},
   "outputs": [],
   "source": []
  }
 ],
 "metadata": {
  "kernelspec": {
   "display_name": "Python 3.9.13 64-bit",
   "language": "python",
   "name": "python3"
  },
  "language_info": {
   "codemirror_mode": {
    "name": "ipython",
    "version": 3
   },
   "file_extension": ".py",
   "mimetype": "text/x-python",
   "name": "python",
   "nbconvert_exporter": "python",
   "pygments_lexer": "ipython3",
   "version": "3.9.13"
  },
  "orig_nbformat": 4,
  "vscode": {
   "interpreter": {
    "hash": "b0fa6594d8f4cbf19f97940f81e996739fb7646882a419484c72d19e05852a7e"
   }
  }
 },
 "nbformat": 4,
 "nbformat_minor": 2
}
