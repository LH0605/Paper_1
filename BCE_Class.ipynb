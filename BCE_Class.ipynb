{
 "cells": [
  {
   "cell_type": "code",
   "execution_count": 23,
   "metadata": {},
   "outputs": [],
   "source": [
    "import torch\n",
    "import torch.nn as nn\n",
    "import torch.utils.data as Data\n",
    "import numpy as np\n",
    "from numpy import where\n",
    "from collections import Counter\n",
    "from sklearn.datasets import make_blobs\n",
    "import matplotlib\n",
    "\n",
    "from matplotlib import pyplot\n",
    "import matplotlib.pyplot as plt\n",
    "from matplotlib.font_manager import FontProperties\n",
    "from matplotlib.ticker import MultipleLocator, FormatStrFormatter \n",
    "from mpl_toolkits.axes_grid1.inset_locator import inset_axes\n",
    "from mpl_toolkits.axes_grid1.inset_locator import mark_inset\n",
    "from matplotlib.patches import ConnectionPatch\n",
    "from scipy.interpolate import make_interp_spline\n",
    "from scipy.ndimage import gaussian_filter1d\n",
    "%matplotlib inline"
   ]
  },
  {
   "cell_type": "code",
   "execution_count": 24,
   "metadata": {},
   "outputs": [],
   "source": [
    "def get_acc(outputs, labels):\n",
    "    \"\"\"计算acc\"\"\"\n",
    "    _, predict = torch.max(outputs.data, 1)\n",
    "    total_num = labels.shape[0]*1.0\n",
    "    correct_num = (labels == predict).sum().item()\n",
    "    acc = correct_num / total_num\n",
    "\n",
    "    return acc\n",
    "\n",
    "# FGSM attack\n",
    "def fgsm(model, X, y, epsilon):\n",
    "    \"\"\" Construct FGSM adversarial examples on the examples X\"\"\"\n",
    "    delta = torch.zeros_like(X, requires_grad=True)\n",
    "    loss = nn.CrossEntropyLoss()(model(X + delta), y)\n",
    "    loss.backward()\n",
    "    #print(\"=== delta.grad ===\\n\", delta.grad)\n",
    "    #print(\"=== delta.grad.sign ===\\n\",delta.grad.detach().sign())\n",
    "    return epsilon * delta.grad.detach().sign()\n"
   ]
  },
  {
   "cell_type": "code",
   "execution_count": 25,
   "metadata": {},
   "outputs": [],
   "source": [
    "#dataset and label\n",
    "\n",
    "# size = 10  ###这里可以更改数据数量###\n",
    "x= torch.unsqueeze(torch.from_numpy(np.append(np.random.normal(-1,2,5),np.random.normal(1,2,5))), dim=1)\n",
    "y= torch.cat((torch.zeros(5),torch.ones(5))).type(torch.LongTensor)\n",
    "\n",
    "dataset = Data.TensorDataset(x, y)\n",
    "dataloader = Data.DataLoader(dataset=dataset, batch_size=10, shuffle=True)"
   ]
  },
  {
   "cell_type": "code",
   "execution_count": 26,
   "metadata": {},
   "outputs": [],
   "source": [
    "#model\n",
    "model = torch.nn.Sequential(\n",
    "    nn.Linear(1, 10),\n",
    "    nn.ReLU(),\n",
    "    nn.Linear(10,2)\n",
    ")\n",
    "\n",
    "\n",
    "# optimizer\n",
    "optim = torch.optim.Adam(model.parameters(), lr=0.1)\n",
    "\n",
    "# Loss\n",
    "loss_fun = nn.CrossEntropyLoss()"
   ]
  },
  {
   "cell_type": "code",
   "execution_count": 31,
   "metadata": {},
   "outputs": [
    {
     "name": "stdout",
     "output_type": "stream",
     "text": [
      "epoch: 0, loss: 0.693422, acc: 0.500000\n",
      "epoch: 20, loss: 0.693075, acc: 0.600000\n",
      "epoch: 40, loss: 0.690331, acc: 0.600000\n",
      "epoch: 60, loss: 0.686796, acc: 0.600000\n",
      "epoch: 80, loss: 0.653121, acc: 0.600000\n"
     ]
    }
   ],
   "source": [
    "# training\n",
    "for e in range(1000):\n",
    "    epoch_loss = 0\n",
    "    epoch_acc = 0\n",
    "    \n",
    "    \n",
    "\n",
    "\n",
    "\n",
    "    # Perturbation\n",
    "    delta = fgsm(model, x.float(), y, 0.1)   ###0.1 为扰动强度，可以更改\n",
    "    xp = x + delta\n",
    "    yp = model(x.float() + delta)\n",
    "\n",
    "    num_epochs = 100\n",
    "\n",
    "    # train\n",
    "for e in range(num_epochs):\n",
    "    epoch_loss = 0\n",
    "    epoch_acc = 0\n",
    "    for i, (x, y) in enumerate(dataloader):\n",
    "        optim.zero_grad()\n",
    "\n",
    "        out = model(xp.float())\n",
    "        loss = loss_fun(out, y)\n",
    "\n",
    "        loss.backward()\n",
    "\n",
    "\n",
    "\n",
    "\n",
    "        optim.step()\n",
    "\n",
    "        epoch_loss += loss.data\n",
    "        epoch_acc += get_acc(out, y)\n",
    "\n",
    "    if  e % 20 == 0:\n",
    "        print('epoch: %d, loss: %f, acc: %f' % (e, epoch_loss , epoch_acc ))"
   ]
  },
  {
   "cell_type": "code",
   "execution_count": null,
   "metadata": {},
   "outputs": [],
   "source": []
  },
  {
   "cell_type": "code",
   "execution_count": null,
   "metadata": {},
   "outputs": [],
   "source": []
  }
 ],
 "metadata": {
  "kernelspec": {
   "display_name": "Python 3",
   "language": "python",
   "name": "python3"
  },
  "language_info": {
   "codemirror_mode": {
    "name": "ipython",
    "version": 3
   },
   "file_extension": ".py",
   "mimetype": "text/x-python",
   "name": "python",
   "nbconvert_exporter": "python",
   "pygments_lexer": "ipython3",
   "version": "3.8.3"
  }
 },
 "nbformat": 4,
 "nbformat_minor": 4
}
